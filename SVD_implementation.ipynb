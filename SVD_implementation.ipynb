{
  "nbformat": 4,
  "nbformat_minor": 0,
  "metadata": {
    "colab": {
      "provenance": [],
      "authorship_tag": "ABX9TyP2S+MJFE95XmwQlYMOwueE",
      "include_colab_link": true
    },
    "kernelspec": {
      "name": "python3",
      "display_name": "Python 3"
    },
    "language_info": {
      "name": "python"
    }
  },
  "cells": [
    {
      "cell_type": "markdown",
      "metadata": {
        "id": "view-in-github",
        "colab_type": "text"
      },
      "source": [
        "<a href=\"https://colab.research.google.com/github/2003Yash/SVD/blob/main/SVD_implementation.ipynb\" target=\"_parent\"><img src=\"https://colab.research.google.com/assets/colab-badge.svg\" alt=\"Open In Colab\"/></a>"
      ]
    },
    {
      "cell_type": "code",
      "source": [
        "import tensorflow as tf"
      ],
      "metadata": {
        "id": "Ixccpkwn-SOu"
      },
      "execution_count": 37,
      "outputs": []
    },
    {
      "cell_type": "code",
      "source": [
        "W = tf.range(12, dtype=tf.float32)\n",
        "W = tf.reshape(W, (4, 3))"
      ],
      "metadata": {
        "id": "VgcXwBQT-WBY"
      },
      "execution_count": 39,
      "outputs": []
    },
    {
      "cell_type": "code",
      "source": [
        "W"
      ],
      "metadata": {
        "colab": {
          "base_uri": "https://localhost:8080/"
        },
        "id": "owXGi0jL-YTA",
        "outputId": "ab7c95d7-d9ae-4457-d617-3e8fcd08f66b"
      },
      "execution_count": 40,
      "outputs": [
        {
          "output_type": "execute_result",
          "data": {
            "text/plain": [
              "<tf.Tensor: shape=(4, 3), dtype=float32, numpy=\n",
              "array([[ 0.,  1.,  2.],\n",
              "       [ 3.,  4.,  5.],\n",
              "       [ 6.,  7.,  8.],\n",
              "       [ 9., 10., 11.]], dtype=float32)>"
            ]
          },
          "metadata": {},
          "execution_count": 40
        }
      ]
    },
    {
      "cell_type": "markdown",
      "source": [
        "SVD"
      ],
      "metadata": {
        "id": "_5Ekpw6W-0BM"
      }
    },
    {
      "cell_type": "code",
      "source": [
        "s, u, v = tf.linalg.svd(W, full_matrices=False) # s is E matrix"
      ],
      "metadata": {
        "id": "nGhyXWvt-lvY"
      },
      "execution_count": 41,
      "outputs": []
    },
    {
      "cell_type": "code",
      "source": [
        "s"
      ],
      "metadata": {
        "colab": {
          "base_uri": "https://localhost:8080/"
        },
        "id": "3vk7vS7x-6WB",
        "outputId": "0c1a881d-2e3e-4b46-8913-1d3b409b67d5"
      },
      "execution_count": 42,
      "outputs": [
        {
          "output_type": "execute_result",
          "data": {
            "text/plain": [
              "<tf.Tensor: shape=(3,), dtype=float32, numpy=array([2.2446745e+01, 1.4640579e+00, 8.7649272e-07], dtype=float32)>"
            ]
          },
          "metadata": {},
          "execution_count": 42
        }
      ]
    },
    {
      "cell_type": "code",
      "source": [
        "tf.linalg.diag(s)"
      ],
      "metadata": {
        "colab": {
          "base_uri": "https://localhost:8080/"
        },
        "id": "EAgoxpik_DAF",
        "outputId": "b91e73ef-1f09-4fb2-bbab-895300d707dd"
      },
      "execution_count": 43,
      "outputs": [
        {
          "output_type": "execute_result",
          "data": {
            "text/plain": [
              "<tf.Tensor: shape=(3, 3), dtype=float32, numpy=\n",
              "array([[2.2446745e+01, 0.0000000e+00, 0.0000000e+00],\n",
              "       [0.0000000e+00, 1.4640579e+00, 0.0000000e+00],\n",
              "       [0.0000000e+00, 0.0000000e+00, 8.7649272e-07]], dtype=float32)>"
            ]
          },
          "metadata": {},
          "execution_count": 43
        }
      ]
    },
    {
      "cell_type": "code",
      "source": [
        "# Diagonal matrix from singular values\n",
        "s_diag = tf.linalg.diag(s)"
      ],
      "metadata": {
        "id": "LPvu-wjV-yP-"
      },
      "execution_count": 44,
      "outputs": []
    },
    {
      "cell_type": "code",
      "source": [
        "u"
      ],
      "metadata": {
        "colab": {
          "base_uri": "https://localhost:8080/"
        },
        "id": "QLup_M0t-69Z",
        "outputId": "efc55315-ce06-4423-9ee0-82561c8c1224"
      },
      "execution_count": 45,
      "outputs": [
        {
          "output_type": "execute_result",
          "data": {
            "text/plain": [
              "<tf.Tensor: shape=(4, 3), dtype=float32, numpy=\n",
              "array([[ 0.08351801, -0.83248097,  0.29955974],\n",
              "       [ 0.31365085, -0.4490248 , -0.05763252],\n",
              "       [ 0.54378384, -0.06556851, -0.7834127 ],\n",
              "       [ 0.77391666,  0.3178885 ,  0.54148597]], dtype=float32)>"
            ]
          },
          "metadata": {},
          "execution_count": 45
        }
      ]
    },
    {
      "cell_type": "code",
      "source": [
        "v"
      ],
      "metadata": {
        "colab": {
          "base_uri": "https://localhost:8080/"
        },
        "id": "f_3WA2C5-7hq",
        "outputId": "164a031b-ac97-4539-f9c6-3a1e003158ae"
      },
      "execution_count": 46,
      "outputs": [
        {
          "output_type": "execute_result",
          "data": {
            "text/plain": [
              "<tf.Tensor: shape=(3, 3), dtype=float32, numpy=\n",
              "array([[ 0.49757344,  0.7653458 , -0.40824807],\n",
              "       [ 0.5739707 ,  0.06237779,  0.81649655],\n",
              "       [ 0.65036786, -0.6405895 , -0.40824848]], dtype=float32)>"
            ]
          },
          "metadata": {},
          "execution_count": 46
        }
      ]
    },
    {
      "cell_type": "code",
      "source": [
        "# Reconstruct the matrix using SVD components\n",
        "W_reconstructed = tf.matmul(u, tf.matmul(s_diag, tf.transpose(v)))"
      ],
      "metadata": {
        "id": "KWw3IZGg-40J"
      },
      "execution_count": 48,
      "outputs": []
    },
    {
      "cell_type": "code",
      "source": [
        "W_reconstructed"
      ],
      "metadata": {
        "colab": {
          "base_uri": "https://localhost:8080/"
        },
        "id": "yngNMOzm_IDJ",
        "outputId": "a371afbc-997e-4114-e10f-5180f18532eb"
      },
      "execution_count": 49,
      "outputs": [
        {
          "output_type": "execute_result",
          "data": {
            "text/plain": [
              "<tf.Tensor: shape=(4, 3), dtype=float32, numpy=\n",
              "array([[7.8687930e-07, 1.0000013e+00, 1.9999999e+00],\n",
              "       [2.9999993e+00, 3.9999995e+00, 4.9999986e+00],\n",
              "       [6.0000000e+00, 6.9999995e+00, 7.9999995e+00],\n",
              "       [8.9999981e+00, 9.9999981e+00, 1.0999997e+01]], dtype=float32)>"
            ]
          },
          "metadata": {},
          "execution_count": 49
        }
      ]
    },
    {
      "cell_type": "markdown",
      "source": [
        "TRUNCATED SVD"
      ],
      "metadata": {
        "id": "0HmzHrQp_LUw"
      }
    },
    {
      "cell_type": "code",
      "source": [
        "s_t = s[:2]"
      ],
      "metadata": {
        "id": "0f4yoizE_Nyk"
      },
      "execution_count": 50,
      "outputs": []
    },
    {
      "cell_type": "code",
      "source": [
        "s_diag"
      ],
      "metadata": {
        "colab": {
          "base_uri": "https://localhost:8080/"
        },
        "id": "QKMjPxN3_hMo",
        "outputId": "2191fd91-b6a4-466e-8dbf-c16b9bfcec2f"
      },
      "execution_count": 51,
      "outputs": [
        {
          "output_type": "execute_result",
          "data": {
            "text/plain": [
              "<tf.Tensor: shape=(3, 3), dtype=float32, numpy=\n",
              "array([[2.2446745e+01, 0.0000000e+00, 0.0000000e+00],\n",
              "       [0.0000000e+00, 1.4640579e+00, 0.0000000e+00],\n",
              "       [0.0000000e+00, 0.0000000e+00, 8.7649272e-07]], dtype=float32)>"
            ]
          },
          "metadata": {},
          "execution_count": 51
        }
      ]
    },
    {
      "cell_type": "code",
      "source": [
        "# Create a diagonal matrix from Et\n",
        "s_t_diag = tf.linalg.diag(s_t)\n",
        "s_t_diag\n",
        "\n",
        "#here s and st are same values example: s_diag[0,0] is 2.24 but s_t_diag[0,0] is 22.4 but s_diag has e^1 so 1 decimal is moved but s_diag[1,1] and s_t_diag[1,1] are same since no e^0"
      ],
      "metadata": {
        "colab": {
          "base_uri": "https://localhost:8080/"
        },
        "id": "RsklNzWJ_bQT",
        "outputId": "ed72c405-3993-4c0c-d847-b53260fbcf92"
      },
      "execution_count": 52,
      "outputs": [
        {
          "output_type": "execute_result",
          "data": {
            "text/plain": [
              "<tf.Tensor: shape=(2, 2), dtype=float32, numpy=\n",
              "array([[22.446745 ,  0.       ],\n",
              "       [ 0.       ,  1.4640579]], dtype=float32)>"
            ]
          },
          "metadata": {},
          "execution_count": 52
        }
      ]
    },
    {
      "cell_type": "code",
      "source": [
        "u.shape, s_diag.shape, tf.transpose(v).shape"
      ],
      "metadata": {
        "colab": {
          "base_uri": "https://localhost:8080/"
        },
        "id": "_esARmZ4LdVb",
        "outputId": "962590a4-09da-45c7-9e29-ff3b981d30d6"
      },
      "execution_count": 53,
      "outputs": [
        {
          "output_type": "execute_result",
          "data": {
            "text/plain": [
              "(TensorShape([4, 3]), TensorShape([3, 3]), TensorShape([3, 3]))"
            ]
          },
          "metadata": {},
          "execution_count": 53
        }
      ]
    },
    {
      "cell_type": "code",
      "source": [
        "u.shape, s_t_diag.shape, tf.transpose(v).shape # can't multiply since s_t should be 3x3"
      ],
      "metadata": {
        "colab": {
          "base_uri": "https://localhost:8080/"
        },
        "id": "XId_nSGKK4rU",
        "outputId": "d5bf3385-239f-4134-ca22-5730f089094c"
      },
      "execution_count": 54,
      "outputs": [
        {
          "output_type": "execute_result",
          "data": {
            "text/plain": [
              "(TensorShape([4, 3]), TensorShape([2, 2]), TensorShape([3, 3]))"
            ]
          },
          "metadata": {},
          "execution_count": 54
        }
      ]
    },
    {
      "cell_type": "code",
      "source": [
        "# Pad the diagonal matrix with zeros\n",
        "s_t_diag = tf.pad(s_t_diag, [[0, 1], [0, 1]], mode=\"CONSTANT\", constant_values=0)\n",
        "s_t_diag"
      ],
      "metadata": {
        "colab": {
          "base_uri": "https://localhost:8080/"
        },
        "id": "YWEYidwp_mgj",
        "outputId": "46781560-0a08-4f58-928b-24f40255dde5"
      },
      "execution_count": 55,
      "outputs": [
        {
          "output_type": "execute_result",
          "data": {
            "text/plain": [
              "<tf.Tensor: shape=(3, 3), dtype=float32, numpy=\n",
              "array([[22.446745 ,  0.       ,  0.       ],\n",
              "       [ 0.       ,  1.4640579,  0.       ],\n",
              "       [ 0.       ,  0.       ,  0.       ]], dtype=float32)>"
            ]
          },
          "metadata": {},
          "execution_count": 55
        }
      ]
    },
    {
      "cell_type": "code",
      "source": [
        "u.shape, s_t_diag.shape, tf.transpose(v).shape"
      ],
      "metadata": {
        "colab": {
          "base_uri": "https://localhost:8080/"
        },
        "id": "MqF5uYo-LsD6",
        "outputId": "bd86408e-afa5-44e9-93f9-819872f37c7e"
      },
      "execution_count": 56,
      "outputs": [
        {
          "output_type": "execute_result",
          "data": {
            "text/plain": [
              "(TensorShape([4, 3]), TensorShape([3, 3]), TensorShape([3, 3]))"
            ]
          },
          "metadata": {},
          "execution_count": 56
        }
      ]
    },
    {
      "cell_type": "code",
      "source": [
        "W_truncated = tf.matmul(u, tf.matmul(s_t_diag, tf.transpose(v)))"
      ],
      "metadata": {
        "id": "tSNVafDABhnD"
      },
      "execution_count": 57,
      "outputs": []
    },
    {
      "cell_type": "code",
      "source": [
        "W_reconstructed"
      ],
      "metadata": {
        "colab": {
          "base_uri": "https://localhost:8080/"
        },
        "id": "Ys8sCvp8LwTI",
        "outputId": "ba51c690-5dfb-400f-f92c-4cb02282e120"
      },
      "execution_count": 58,
      "outputs": [
        {
          "output_type": "execute_result",
          "data": {
            "text/plain": [
              "<tf.Tensor: shape=(4, 3), dtype=float32, numpy=\n",
              "array([[7.8687930e-07, 1.0000013e+00, 1.9999999e+00],\n",
              "       [2.9999993e+00, 3.9999995e+00, 4.9999986e+00],\n",
              "       [6.0000000e+00, 6.9999995e+00, 7.9999995e+00],\n",
              "       [8.9999981e+00, 9.9999981e+00, 1.0999997e+01]], dtype=float32)>"
            ]
          },
          "metadata": {},
          "execution_count": 58
        }
      ]
    },
    {
      "cell_type": "code",
      "source": [
        "W_truncated"
      ],
      "metadata": {
        "colab": {
          "base_uri": "https://localhost:8080/"
        },
        "id": "sakO6VNtLyAw",
        "outputId": "7445e9d0-ada7-4b8d-b91f-b6fa880703a9"
      },
      "execution_count": 59,
      "outputs": [
        {
          "output_type": "execute_result",
          "data": {
            "text/plain": [
              "<tf.Tensor: shape=(4, 3), dtype=float32, numpy=\n",
              "array([[8.9406967e-07, 1.0000011e+00, 2.0000000e+00],\n",
              "       [2.9999993e+00, 3.9999995e+00, 4.9999986e+00],\n",
              "       [5.9999995e+00, 7.0000000e+00, 7.9999990e+00],\n",
              "       [8.9999981e+00, 9.9999981e+00, 1.0999997e+01]], dtype=float32)>"
            ]
          },
          "metadata": {},
          "execution_count": 59
        }
      ]
    }
  ]
}